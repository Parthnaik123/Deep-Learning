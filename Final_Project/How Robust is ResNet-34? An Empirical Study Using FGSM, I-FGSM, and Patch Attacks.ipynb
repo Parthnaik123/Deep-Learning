{
  "nbformat": 4,
  "nbformat_minor": 0,
  "metadata": {
    "colab": {
      "provenance": [],
      "gpuType": "T4"
    },
    "kernelspec": {
      "name": "python3",
      "display_name": "Python 3"
    },
    "language_info": {
      "name": "python"
    },
    "accelerator": "GPU"
  },
  "cells": [
    {
      "cell_type": "code",
      "source": [
        "## Task-1"
      ],
      "metadata": {
        "id": "B9Umiol52hUI"
      },
      "execution_count": null,
      "outputs": []
    },
    {
      "cell_type": "code",
      "source": [
        "import torch\n",
        "import torchvision\n",
        "import torchvision.transforms as transforms\n",
        "import json\n",
        "from torch.utils.data import DataLoader\n",
        "from tqdm import tqdm\n",
        "\n",
        "# ---------------------------------------\n",
        "# STEP 1: Load Pretrained ResNet-34 Model\n",
        "# ---------------------------------------\n",
        "print(\"Loading pretrained ResNet-34 model...\")\n",
        "resnet_model = torchvision.models.resnet34(weights='IMAGENET1K_V1')\n",
        "resnet_model.eval()\n",
        "\n",
        "# Use GPU if available\n",
        "device = torch.device(\"cuda\" if torch.cuda.is_available() else \"cpu\")\n",
        "resnet_model.to(device)\n",
        "\n",
        "# ---------------------------------------\n",
        "# STEP 2: Define Image Preprocessing\n",
        "# ---------------------------------------\n",
        "print(\"Setting up image transforms...\")\n",
        "imagenet_mean = [0.485, 0.456, 0.406]\n",
        "imagenet_std = [0.229, 0.224, 0.225]\n",
        "\n",
        "image_transform = transforms.Compose([\n",
        "    transforms.ToTensor(),\n",
        "    transforms.Normalize(mean=imagenet_mean, std=imagenet_std)\n",
        "])\n",
        "\n",
        "# ---------------------------------------\n",
        "# STEP 3: Load the 100-Class ImageNet Subset\n",
        "# ---------------------------------------\n",
        "print(\"Loading test dataset...\")\n",
        "dataset_path = \"/content/drive/MyDrive/TestDataSet\"  # Update this path if needed\n",
        "test_dataset = torchvision.datasets.ImageFolder(root=dataset_path, transform=image_transform)\n",
        "test_loader = DataLoader(test_dataset, batch_size=32, shuffle=False)\n",
        "\n",
        "# ---------------------------------------\n",
        "# STEP 4: Load ImageNet Class Index Mapping\n",
        "# ---------------------------------------\n",
        "print(\"Loading imagenet_class_index.json...\")\n",
        "with open(\"/content/drive/MyDrive/TestDataSet/imagenet_class_index.json\", \"r\") as f:\n",
        "    class_index_data = json.load(f)\n",
        "\n",
        "# Build: synset (folder name) → ImageNet class index\n",
        "synset_to_index = {entry[0]: int(key) for key, entry in class_index_data.items()}\n",
        "\n",
        "# Map dataset class index (0-99) → actual ImageNet class index\n",
        "folder_to_index = test_dataset.class_to_idx\n",
        "dataset_idx_to_imagenet_idx = {\n",
        "    folder_to_index[synset]: synset_to_index[synset]\n",
        "    for synset in folder_to_index\n",
        "}\n",
        "\n",
        "# ---------------------------------------\n",
        "# STEP 5: Run Evaluation (Top-1 & Top-5)\n",
        "# ---------------------------------------\n",
        "print(\"Evaluating the model...\")\n",
        "top1_hits = 0\n",
        "top5_hits = 0\n",
        "total_samples = 0\n",
        "\n",
        "with torch.no_grad():\n",
        "    for images, labels in tqdm(test_loader):\n",
        "        images = images.to(device)\n",
        "        labels = labels.to(device)\n",
        "\n",
        "        # Make predictions\n",
        "        outputs = resnet_model(images)\n",
        "        _, top5_predictions = outputs.topk(5, dim=1)\n",
        "\n",
        "        # Map ground truth to real ImageNet indices\n",
        "        true_labels = torch.tensor(\n",
        "            [dataset_idx_to_imagenet_idx[int(label)] for label in labels]\n",
        "        ).to(device)\n",
        "\n",
        "        # Top-1 Accuracy\n",
        "        top1_predictions = top5_predictions[:, 0]\n",
        "        top1_hits += (top1_predictions == true_labels).sum().item()\n",
        "\n",
        "        # Top-5 Accuracy\n",
        "        top5_hits += sum([true_labels[i] in top5_predictions[i] for i in range(len(true_labels))])\n",
        "\n",
        "        total_samples += labels.size(0)\n",
        "\n",
        "# ---------------------------------------\n",
        "# STEP 6: Show Final Results\n",
        "# ---------------------------------------\n",
        "top1_accuracy = 100 * top1_hits / total_samples\n",
        "top5_accuracy = 100 * top5_hits / total_samples\n",
        "\n",
        "print(f\"\\nTop-1 Accuracy: {top1_accuracy:.2f}%\")\n",
        "print(f\"Top-5 Accuracy: {top5_accuracy:.2f}%\")\n"
      ],
      "metadata": {
        "colab": {
          "base_uri": "https://localhost:8080/"
        },
        "id": "7SX-vjkjmHeA",
        "outputId": "13c07d31-ad34-4056-cf43-56fc2c0e2c6e"
      },
      "execution_count": 10,
      "outputs": [
        {
          "output_type": "stream",
          "name": "stdout",
          "text": [
            "Loading pretrained ResNet-34 model...\n",
            "Setting up image transforms...\n",
            "Loading test dataset...\n",
            "Loading imagenet_class_index.json...\n",
            "Evaluating the model...\n"
          ]
        },
        {
          "output_type": "stream",
          "name": "stderr",
          "text": [
            "100%|██████████| 16/16 [00:02<00:00,  5.65it/s]"
          ]
        },
        {
          "output_type": "stream",
          "name": "stdout",
          "text": [
            "\n",
            "Top-1 Accuracy: 76.00%\n",
            "Top-5 Accuracy: 94.20%\n"
          ]
        },
        {
          "output_type": "stream",
          "name": "stderr",
          "text": [
            "\n"
          ]
        }
      ]
    },
    {
      "cell_type": "code",
      "source": [
        "## Task-2"
      ],
      "metadata": {
        "id": "V0JJKHhY2X6k"
      },
      "execution_count": null,
      "outputs": []
    },
    {
      "cell_type": "code",
      "source": [
        "import torch\n",
        "import torch.nn.functional as F\n",
        "import torchvision\n",
        "import torchvision.transforms as transforms\n",
        "import json\n",
        "from torch.utils.data import DataLoader\n",
        "from tqdm import tqdm\n",
        "import matplotlib.pyplot as plt\n",
        "\n",
        "# FGSM attack parameters\n",
        "epsilon = 0.02\n",
        "device = torch.device(\"cuda\" if torch.cuda.is_available() else \"cpu\")\n",
        "\n",
        "# Standard ImageNet normalization\n",
        "mean = [0.485, 0.456, 0.406]\n",
        "std = [0.229, 0.224, 0.225]\n",
        "\n",
        "# Define preprocessing and un-normalization\n",
        "transform = transforms.Compose([\n",
        "    transforms.ToTensor(),\n",
        "    transforms.Normalize(mean=mean, std=std)\n",
        "])\n",
        "\n",
        "unnormalize = transforms.Normalize(\n",
        "    mean=[-m/s for m, s in zip(mean, std)],\n",
        "    std=[1/s for s in std]\n",
        ")\n",
        "\n",
        "# Load the test dataset\n",
        "dataset_path = \"/content/drive/MyDrive/TestDataSet\"\n",
        "test_dataset = torchvision.datasets.ImageFolder(root=dataset_path, transform=transform)\n",
        "test_loader = DataLoader(test_dataset, batch_size=32, shuffle=False)\n",
        "\n",
        "# Load ImageNet class mapping (official format: index → [synset, label])\n",
        "with open(\"/content/drive/MyDrive/TestDataSet/imagenet_class_index.json\", \"r\") as f:\n",
        "    class_map = json.load(f)\n",
        "\n",
        "# Map synset (folder name) → class index\n",
        "synset_to_index = {v[0]: int(k) for k, v in class_map.items()}\n",
        "folder_name_to_index = test_dataset.class_to_idx\n",
        "index_mapping = {\n",
        "    folder_name_to_index[synset]: synset_to_index[synset]\n",
        "    for synset in folder_name_to_index\n",
        "}\n",
        "\n",
        "# Load the pretrained ResNet-34 model\n",
        "model = torchvision.models.resnet34(weights='IMAGENET1K_V1')\n",
        "model.eval().to(device)\n",
        "\n",
        "# Track performance\n",
        "correct_top1 = 0\n",
        "correct_top5 = 0\n",
        "total_images = 0\n",
        "saved_examples = 0\n",
        "\n",
        "print(\"Running FGSM attack on test dataset...\")\n",
        "\n",
        "# Loop through the test dataset\n",
        "for images, labels in tqdm(test_loader):\n",
        "    images, labels = images.to(device), labels.to(device)\n",
        "    images.requires_grad = True\n",
        "\n",
        "    # Get model predictions\n",
        "    outputs = model(images)\n",
        "    true_labels = torch.tensor([index_mapping[int(label)] for label in labels]).to(device)\n",
        "\n",
        "    # Compute loss and gradients\n",
        "    loss = F.cross_entropy(outputs, true_labels)\n",
        "    model.zero_grad()\n",
        "    loss.backward()\n",
        "\n",
        "    # Apply FGSM: add perturbation in direction of gradient sign\n",
        "    perturbation = epsilon * images.grad.sign()\n",
        "    adversarial_images = torch.clamp(images + perturbation, 0, 1)\n",
        "\n",
        "    # Evaluate model on adversarial images\n",
        "    with torch.no_grad():\n",
        "        adv_outputs = model(adversarial_images)\n",
        "        _, top5_preds = adv_outputs.topk(5, dim=1)\n",
        "        top1_preds = top5_preds[:, 0]\n",
        "\n",
        "        correct_top1 += (top1_preds == true_labels).sum().item()\n",
        "        correct_top5 += sum([true_labels[i] in top5_preds[i] for i in range(len(true_labels))])\n",
        "        total_images += labels.size(0)\n",
        "\n",
        "    # Save first 3–5 adversarial examples\n",
        "    if saved_examples < 5:\n",
        "        for i in range(min(5 - saved_examples, len(adversarial_images))):\n",
        "            img = unnormalize(adversarial_images[i].cpu())\n",
        "            img = torch.clamp(img, 0, 1)\n",
        "            img_np = img.permute(1, 2, 0).detach().numpy()\n",
        "            plt.imshow(img_np)\n",
        "            plt.title(\"Adversarial Example\")\n",
        "            plt.axis('off')\n",
        "            plt.savefig(f\"fgsm_example_{saved_examples}.png\")\n",
        "            plt.close()\n",
        "            saved_examples += 1\n",
        "\n",
        "# Final accuracy results\n",
        "top1_acc = 100 * correct_top1 / total_images\n",
        "top5_acc = 100 * correct_top5 / total_images\n",
        "\n",
        "print(f\"\\nTop-1 Accuracy after FGSM attack: {top1_acc:.2f}%\")\n",
        "print(f\"Top-5 Accuracy after FGSM attack: {top5_acc:.2f}%\")\n"
      ],
      "metadata": {
        "colab": {
          "base_uri": "https://localhost:8080/"
        },
        "id": "vCjdzV_4ySZI",
        "outputId": "b63065f9-294d-478e-b8cd-676b35b40c0a"
      },
      "execution_count": 17,
      "outputs": [
        {
          "output_type": "stream",
          "name": "stdout",
          "text": [
            "Running FGSM attack on test dataset...\n"
          ]
        },
        {
          "output_type": "stream",
          "name": "stderr",
          "text": [
            "100%|██████████| 16/16 [00:05<00:00,  2.89it/s]"
          ]
        },
        {
          "output_type": "stream",
          "name": "stdout",
          "text": [
            "\n",
            "Top-1 Accuracy after FGSM attack: 26.40%\n",
            "Top-5 Accuracy after FGSM attack: 50.60%\n"
          ]
        },
        {
          "output_type": "stream",
          "name": "stderr",
          "text": [
            "\n"
          ]
        }
      ]
    },
    {
      "cell_type": "code",
      "source": [
        "## Task-3"
      ],
      "metadata": {
        "id": "XBe6ORyW2vkG"
      },
      "execution_count": null,
      "outputs": []
    },
    {
      "cell_type": "code",
      "source": [
        "import torch\n",
        "import torch.nn.functional as F\n",
        "import torchvision\n",
        "import torchvision.transforms as transforms\n",
        "import json\n",
        "from torch.utils.data import DataLoader\n",
        "from tqdm import tqdm\n",
        "import matplotlib.pyplot as plt\n",
        "\n",
        "# -------------------------\n",
        "# Configuration Parameters\n",
        "# -------------------------\n",
        "epsilon = 0.02           # Maximum total perturbation\n",
        "alpha = 0.005            # Step size per iteration\n",
        "steps = 10               # Number of attack iterations\n",
        "device = torch.device(\"cuda\" if torch.cuda.is_available() else \"cpu\")\n",
        "\n",
        "# -------------------------\n",
        "# Image Preprocessing Setup\n",
        "# -------------------------\n",
        "mean = [0.485, 0.456, 0.406]\n",
        "std  = [0.229, 0.224, 0.225]\n",
        "\n",
        "transform = transforms.Compose([\n",
        "    transforms.ToTensor(),\n",
        "    transforms.Normalize(mean=mean, std=std)\n",
        "])\n",
        "\n",
        "# Used to reverse normalization for visualization\n",
        "unnormalize = transforms.Normalize(\n",
        "    mean=[-m/s for m, s in zip(mean, std)],\n",
        "    std=[1/s for s in std]\n",
        ")\n",
        "\n",
        "# -------------------------\n",
        "# Load Test Dataset\n",
        "# -------------------------\n",
        "dataset_path = \"/content/drive/MyDrive/TestDataSet\"\n",
        "test_dataset = torchvision.datasets.ImageFolder(root=dataset_path, transform=transform)\n",
        "test_loader = DataLoader(test_dataset, batch_size=32, shuffle=False)\n",
        "\n",
        "# -------------------------\n",
        "# Load Class Index Mapping\n",
        "# -------------------------\n",
        "with open(\"/content/drive/MyDrive/TestDataSet/imagenet_class_index.json\", \"r\") as f:\n",
        "    class_map = json.load(f)\n",
        "\n",
        "# Maps synset (folder name) → ImageNet index\n",
        "synset_to_idx = {v[0]: int(k) for k, v in class_map.items()}\n",
        "folder_to_idx = test_dataset.class_to_idx\n",
        "index_mapping = {\n",
        "    folder_to_idx[synset]: synset_to_idx[synset]\n",
        "    for synset in folder_to_idx\n",
        "}\n",
        "\n",
        "# -------------------------\n",
        "# Load Pretrained Model\n",
        "# -------------------------\n",
        "model = torchvision.models.resnet34(weights='IMAGENET1K_V1')\n",
        "model.eval().to(device)\n",
        "\n",
        "# -------------------------\n",
        "# Run I-FGSM Attack\n",
        "# -------------------------\n",
        "correct_top1 = 0\n",
        "correct_top5 = 0\n",
        "total = 0\n",
        "saved = 0\n",
        "\n",
        "print(\"Running I-FGSM attack...\")\n",
        "\n",
        "for images, labels in tqdm(test_loader):\n",
        "    images = images.to(device)\n",
        "    labels = labels.to(device)\n",
        "    true_labels = torch.tensor([index_mapping[int(label)] for label in labels]).to(device)\n",
        "\n",
        "    # Initialize adversarial image\n",
        "    adv_images = images.clone().detach().requires_grad_(True)\n",
        "\n",
        "    for _ in range(steps):\n",
        "        outputs = model(adv_images)\n",
        "        loss = F.cross_entropy(outputs, true_labels)\n",
        "\n",
        "        model.zero_grad()\n",
        "        loss.backward()\n",
        "\n",
        "        # Take a small step in direction of gradient\n",
        "        adv_images = adv_images + alpha * adv_images.grad.sign()\n",
        "\n",
        "        # Clip to keep within epsilon-ball of original\n",
        "        delta = torch.clamp(adv_images - images, min=-epsilon, max=epsilon)\n",
        "        adv_images = torch.clamp(images + delta, min=0, max=1).detach().requires_grad_(True)\n",
        "\n",
        "    # Evaluate model on adversarial images\n",
        "    with torch.no_grad():\n",
        "        predictions = model(adv_images)\n",
        "        _, top5 = predictions.topk(5, dim=1)\n",
        "        top1 = top5[:, 0]\n",
        "\n",
        "        correct_top1 += (top1 == true_labels).sum().item()\n",
        "        correct_top5 += sum([true_labels[i] in top5[i] for i in range(len(true_labels))])\n",
        "        total += labels.size(0)\n",
        "\n",
        "    # Save up to 5 adversarial samples\n",
        "    if saved < 5:\n",
        "        for i in range(min(5 - saved, len(adv_images))):\n",
        "            img = unnormalize(adv_images[i].cpu())\n",
        "            img = torch.clamp(img, 0, 1)\n",
        "            np_img = img.permute(1, 2, 0).detach().numpy()\n",
        "            plt.imshow(np_img)\n",
        "            plt.title(\"I-FGSM Adversarial Example\")\n",
        "            plt.axis('off')\n",
        "            plt.savefig(f\"ifgsm_example_{saved}.png\")\n",
        "            plt.close()\n",
        "            saved += 1\n",
        "\n",
        "# -------------------------\n",
        "# Final Accuracy Results\n",
        "# -------------------------\n",
        "top1_accuracy = 100 * correct_top1 / total\n",
        "top5_accuracy = 100 * correct_top5 / total\n",
        "\n",
        "print(f\"\\nTop-1 Accuracy after I-FGSM attack: {top1_accuracy:.2f}%\")\n",
        "print(f\"Top-5 Accuracy after I-FGSM attack: {top5_accuracy:.2f}%\")\n"
      ],
      "metadata": {
        "colab": {
          "base_uri": "https://localhost:8080/"
        },
        "id": "zk3mEdHc1iUn",
        "outputId": "7f284763-7145-4c08-e6b3-9b0a0fdf072b"
      },
      "execution_count": 18,
      "outputs": [
        {
          "output_type": "stream",
          "name": "stdout",
          "text": [
            "Running I-FGSM attack...\n"
          ]
        },
        {
          "output_type": "stream",
          "name": "stderr",
          "text": [
            "100%|██████████| 16/16 [00:26<00:00,  1.63s/it]"
          ]
        },
        {
          "output_type": "stream",
          "name": "stdout",
          "text": [
            "\n",
            "Top-1 Accuracy after I-FGSM attack: 0.40%\n",
            "Top-5 Accuracy after I-FGSM attack: 6.60%\n"
          ]
        },
        {
          "output_type": "stream",
          "name": "stderr",
          "text": [
            "\n"
          ]
        }
      ]
    },
    {
      "cell_type": "code",
      "source": [
        "## Task-4"
      ],
      "metadata": {
        "id": "8RGcUH1m2zvl"
      },
      "execution_count": null,
      "outputs": []
    },
    {
      "cell_type": "code",
      "source": [
        "import torch\n",
        "import torchvision\n",
        "import torchvision.transforms as transforms\n",
        "import json\n",
        "from torch.utils.data import DataLoader\n",
        "from tqdm import tqdm\n",
        "import numpy as np\n",
        "import matplotlib.pyplot as plt\n",
        "\n",
        "# -------------------------\n",
        "# Device and Parameters\n",
        "# -------------------------\n",
        "device = torch.device(\"cuda\" if torch.cuda.is_available() else \"cpu\")\n",
        "patch_ratio = 0.125  # Patch is 1/8th of the image size\n",
        "patch_type = \"random\"  # Options: \"random\" or \"black\"\n",
        "\n",
        "# -------------------------\n",
        "# Image Preprocessing\n",
        "# -------------------------\n",
        "mean = [0.485, 0.456, 0.406]\n",
        "std  = [0.229, 0.224, 0.225]\n",
        "\n",
        "transform = transforms.Compose([\n",
        "    transforms.ToTensor(),\n",
        "    transforms.Normalize(mean=mean, std=std)\n",
        "])\n",
        "\n",
        "# Used to unnormalize for visualization\n",
        "unnormalize = transforms.Normalize(\n",
        "    mean=[-m/s for m, s in zip(mean, std)],\n",
        "    std=[1/s for s in std]\n",
        ")\n",
        "\n",
        "# -------------------------\n",
        "# Load Dataset\n",
        "# -------------------------\n",
        "dataset_path = \"/content/drive/MyDrive/TestDataSet\"\n",
        "test_dataset = torchvision.datasets.ImageFolder(root=dataset_path, transform=transform)\n",
        "test_loader = DataLoader(test_dataset, batch_size=32, shuffle=False)\n",
        "\n",
        "# -------------------------\n",
        "# Load Label Mapping\n",
        "# -------------------------\n",
        "with open(\"/content/drive/MyDrive/TestDataSet/imagenet_class_index.json\", \"r\") as f:\n",
        "    class_map = json.load(f)\n",
        "\n",
        "# Create mapping from folder name (synset) → ImageNet class index\n",
        "synset_to_idx = {v[0]: int(k) for k, v in class_map.items()}\n",
        "folder_to_idx = test_dataset.class_to_idx\n",
        "index_mapping = {\n",
        "    folder_to_idx[synset]: synset_to_idx[synset]\n",
        "    for synset in folder_to_idx\n",
        "}\n",
        "\n",
        "# -------------------------\n",
        "# Load Pretrained Model\n",
        "# -------------------------\n",
        "model = torchvision.models.resnet34(weights='IMAGENET1K_V1')\n",
        "model.eval().to(device)\n",
        "\n",
        "# -------------------------\n",
        "# Attack Evaluation\n",
        "# -------------------------\n",
        "correct_top1 = 0\n",
        "correct_top5 = 0\n",
        "total_images = 0\n",
        "saved = 0\n",
        "\n",
        "print(\"Applying patch attack to images...\")\n",
        "\n",
        "for images, labels in tqdm(test_loader):\n",
        "    images = images.to(device)\n",
        "    labels = labels.to(device)\n",
        "\n",
        "    # Get true ImageNet labels\n",
        "    true_labels = torch.tensor([index_mapping[int(label)] for label in labels]).to(device)\n",
        "\n",
        "    # Create a copy of the images to patch\n",
        "    patched_images = images.clone()\n",
        "\n",
        "    for i in range(patched_images.size(0)):\n",
        "        img = patched_images[i]\n",
        "        c, h, w = img.shape\n",
        "        ph, pw = int(h * patch_ratio), int(w * patch_ratio)\n",
        "        y_start, x_start = h - ph, w - pw  # bottom-right corner\n",
        "\n",
        "        # Choose patch type\n",
        "        if patch_type == \"random\":\n",
        "            patch = torch.rand((c, ph, pw), device=device)\n",
        "        elif patch_type == \"black\":\n",
        "            patch = torch.zeros((c, ph, pw), device=device)\n",
        "\n",
        "        # Apply patch\n",
        "        img[:, y_start:y_start+ph, x_start:x_start+pw] = patch\n",
        "\n",
        "    # Evaluate model on patched images\n",
        "    with torch.no_grad():\n",
        "        outputs = model(patched_images)\n",
        "        _, top5_preds = outputs.topk(5, dim=1)\n",
        "        top1_preds = top5_preds[:, 0]\n",
        "\n",
        "        correct_top1 += (top1_preds == true_labels).sum().item()\n",
        "        correct_top5 += sum([true_labels[i] in top5_preds[i] for i in range(len(true_labels))])\n",
        "        total_images += labels.size(0)\n",
        "\n",
        "    # Save a few patched examples\n",
        "    if saved < 5:\n",
        "        for i in range(min(5 - saved, len(patched_images))):\n",
        "            img = unnormalize(patched_images[i].cpu())\n",
        "            img = torch.clamp(img, 0, 1)\n",
        "            np_img = img.permute(1, 2, 0).detach().numpy()\n",
        "            plt.imshow(np_img)\n",
        "            plt.title(\"Patched Image\")\n",
        "            plt.axis(\"off\")\n",
        "            plt.savefig(f\"patch_example_{saved}.png\")\n",
        "            plt.close()\n",
        "            saved += 1\n",
        "\n",
        "# -------------------------\n",
        "# Final Accuracy Report\n",
        "# -------------------------\n",
        "top1_acc = 100 * correct_top1 / total_images\n",
        "top5_acc = 100 * correct_top5 / total_images\n",
        "\n",
        "print(f\"\\nTop-1 Accuracy after patch attack: {top1_acc:.2f}%\")\n",
        "print(f\"Top-5 Accuracy after patch attack: {top5_acc:.2f}%\")\n"
      ],
      "metadata": {
        "colab": {
          "base_uri": "https://localhost:8080/"
        },
        "id": "M-AdVP-y22f5",
        "outputId": "31d24c63-1676-4505-e509-65e73cbbd25b"
      },
      "execution_count": 19,
      "outputs": [
        {
          "output_type": "stream",
          "name": "stdout",
          "text": [
            "Applying patch attack to images...\n"
          ]
        },
        {
          "output_type": "stream",
          "name": "stderr",
          "text": [
            "100%|██████████| 16/16 [00:03<00:00,  4.63it/s]"
          ]
        },
        {
          "output_type": "stream",
          "name": "stdout",
          "text": [
            "\n",
            "Top-1 Accuracy after patch attack: 74.60%\n",
            "Top-5 Accuracy after patch attack: 94.80%\n"
          ]
        },
        {
          "output_type": "stream",
          "name": "stderr",
          "text": [
            "\n"
          ]
        }
      ]
    }
  ]
}